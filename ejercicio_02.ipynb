{
  "nbformat": 4,
  "nbformat_minor": 0,
  "metadata": {
    "colab": {
      "provenance": [],
      "authorship_tag": "ABX9TyPqqRd/aQJN2qt3XGilfjXt",
      "include_colab_link": true
    },
    "kernelspec": {
      "name": "python3",
      "display_name": "Python 3"
    },
    "language_info": {
      "name": "python"
    }
  },
  "cells": [
    {
      "cell_type": "markdown",
      "metadata": {
        "id": "view-in-github",
        "colab_type": "text"
      },
      "source": [
        "<a href=\"https://colab.research.google.com/github/pepereef18/prueba/blob/master/ejercicio_02.ipynb\" target=\"_parent\"><img src=\"https://colab.research.google.com/assets/colab-badge.svg\" alt=\"Open In Colab\"/></a>"
      ]
    },
    {
      "cell_type": "code",
      "source": [],
      "metadata": {
        "id": "KExxCeWOwkJn"
      },
      "execution_count": null,
      "outputs": []
    },
    {
      "cell_type": "code",
      "execution_count": null,
      "metadata": {
        "colab": {
          "base_uri": "https://localhost:8080/"
        },
        "id": "PXrZoplst6Uh",
        "outputId": "d0549295-59ff-42ba-bdc1-5d8b1f7c6b40"
      },
      "outputs": [
        {
          "output_type": "stream",
          "name": "stdout",
          "text": [
            "El 55 no esta en la lista\n"
          ]
        }
      ],
      "source": [
        "lista2=[1, 3, 5, 7, 12, 21, 56, 32, 45, 89, 22, 34, 65, 43, 68, 76, 51, 29, 93, 45, 62, 76, 95, 8, 121, 26, 38, 49, 72, 174, 141, 75]\n",
        "num=55\n",
        "num in lista2\n",
        "if 55 in lista2:\n",
        "  print(\"El 55 si esta en la lista\")\n",
        "else: print (\"El 55 no esta en la lista\")\n",
        "\n",
        "\n",
        "\n",
        "\n",
        "\n",
        "\n",
        "\n"
      ]
    }
  ]
}